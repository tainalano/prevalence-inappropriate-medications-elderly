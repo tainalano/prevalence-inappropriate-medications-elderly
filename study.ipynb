{
 "cells": [
  {
   "cell_type": "code",
   "execution_count": 7,
   "metadata": {},
   "outputs": [
    {
     "name": "stdout",
     "output_type": "stream",
     "text": [
      "{'pantoprazol': 11, 'omeprazol': 30, 'insulina': 9, 'ibuprofeno': 3, 'alprazolam': 1, 'dexclorfeniramina': 1, 'paroxetina': 4, 'cetoprofeno': 1, 'digoxina': 1, 'ticlopidina': 1, 'amiodarona': 4, 'diazepam': 1, 'clonidina': 1, 'zolpidem': 3, 'amitriptilina': 5, 'esomeprazol': 3, 'sulpirida': 1, 'imipramina': 3, 'testosterona': 1, 'lansoprazol': 1, 'estrogênios': 2, 'clonazepam': 3, 'ciclobenzaprina': 1, 'doxazosina': 3, 'dexlansoprazol': 1, 'orfenadrina': 1, 'quetiapina': 2, 'carisoprodol': 2, 'diclofenaco': 2, 'lorazepam': 1, 'risperidona': 2, 'nitrofurantoína': 1}\n"
     ]
    },
    {
     "data": {
      "image/png": "[encoded data removed]",
      "text/plain": [
       "<Figure size 432x288 with 1 Axes>"
      ]
     },
     "metadata": {
      "needs_background": "light"
     },
     "output_type": "display_data"
    }
   ],
   "source": [
    "import pandas as pd\n",
    "import matplotlib.pyplot as plt\n",
    "\n",
    "drug_file = pd.read_csv('beerscriteria.csv', header=None).values.tolist()\n",
    "drug_list = drug_file[0]\n",
    "\n",
    "for i in range(len(drug_list)):\n",
    "    drug_list[i] = str(drug_list[i]).lower()\n",
    "\n",
    "patient_list = pd.read_csv('datafinal.csv')\n",
    "\n",
    "drug_counter = {}\n",
    "\n",
    "for patient_line in patient_list.values:\n",
    "  for value in patient_line:\n",
    "    if str(value).lower() in drug_list:\n",
    "        if str(value).lower() not in drug_counter:\n",
    "            drug_counter[str(value).lower()] = 0\n",
    "        drug_counter[str(value).lower()] += 1\n",
    "\n",
    "print(drug_counter)\n",
    "\n",
    "plt.barh(*zip(*drug_counter.items()))\n",
    "plt.show()"
   ]
  },
  {
   "cell_type": "code",
   "execution_count": 8,
   "metadata": {},
   "outputs": [
    {
     "name": "stdout",
     "output_type": "stream",
     "text": [
      "Absolute prevalence:  Counter({0: 230, 1: 72, 2: 14, 3: 2})\n",
      "Male prevalence:  Counter({0: 71, 1: 16, 2: 4, 3: 1})\n",
      "Female prevalence:  Counter({0: 159, 1: 56, 2: 10, 3: 1})\n",
      "{'male': 0.29347826086956524, 'female': 0.3495575221238938}\n",
      "{'60 - 69': 0.3430232558139535, '70 - 79': 0.3252032520325203, '80 - 89': 0.30434782608695654}\n",
      "Counter({0: 16, 1: 7})\n",
      "Counter({0: 90, 1: 27, 2: 5, 3: 1})\n",
      "Counter({0: 124, 1: 38, 2: 9, 3: 1})\n"
     ]
    },
    {
     "data": {
      "image/png": "[encoded data removed]",
      "text/plain": [
       "<Figure size 432x288 with 1 Axes>"
      ]
     },
     "metadata": {
      "needs_background": "light"
     },
     "output_type": "display_data"
    }
   ],
   "source": [
    "import pandas as pd\n",
    "import matplotlib.pyplot as plt\n",
    "from collections import Counter\n",
    "\n",
    "drug_file = pd.read_csv('beerscriteria.csv', header=None).values.tolist()\n",
    "drug_list = drug_file[0]\n",
    "\n",
    "for i in range(len(drug_list)):\n",
    "    drug_list[i] = str(drug_list[i]).lower()\n",
    "\n",
    "patient_list = pd.read_csv('datafinal.csv')\n",
    "\n",
    "list_of_prevalence = []\n",
    "\n",
    "prevalence_on_male = []\n",
    "prevalence_on_female = []\n",
    "\n",
    "prevalence_sixties = []\n",
    "prevalence_seventies = []\n",
    "prevalence_eighties = []\n",
    "\n",
    "for patient_line in patient_list.values:\n",
    "    counter = 0\n",
    "    for value in patient_line:\n",
    "        if str(value).lower() in drug_list:\n",
    "            counter += 1\n",
    "    list_of_prevalence.append(counter)\n",
    "    if str(patient_line[2]).lower() == 'male':\n",
    "        prevalence_on_male.append(counter)\n",
    "    else:\n",
    "        prevalence_on_female.append(counter)\n",
    "    if int(patient_line[1]) < 70 and int(patient_line[1]) >= 60:\n",
    "        prevalence_sixties.append(counter)\n",
    "    elif int(patient_line[1]) < 80 and int(patient_line[1]) >= 70:\n",
    "        prevalence_seventies.append(counter)\n",
    "    else:\n",
    "        prevalence_eighties.append(counter)\n",
    "\n",
    "\n",
    "def Average(lst):\n",
    "    return sum(lst) / len(lst)\n",
    "\n",
    "prevalence_counter = Counter(list_of_prevalence)\n",
    "male_counter = Counter(prevalence_on_male)\n",
    "female_counter = Counter(prevalence_on_female)\n",
    "\n",
    "sex_prevalence = {\n",
    "    'male': Average(prevalence_on_male),\n",
    "    'female': Average(prevalence_on_female)\n",
    "}\n",
    "\n",
    "age_prevalence = {\n",
    "    '60 - 69': Average(prevalence_sixties),\n",
    "    '70 - 79': Average(prevalence_seventies),\n",
    "    '80 - 89': Average(prevalence_eighties),\n",
    "}\n",
    "\n",
    "print('Absolute prevalence: ' , prevalence_counter)\n",
    "print('Male prevalence: ' , male_counter)\n",
    "print('Female prevalence: ' , female_counter)\n",
    "print(sex_prevalence)\n",
    "print(age_prevalence)\n",
    "print(Counter(prevalence_eighties))\n",
    "print(Counter(prevalence_seventies))\n",
    "print(Counter(prevalence_sixties))\n",
    "\n",
    "\n",
    "\n",
    "\n",
    "plt.bar(*zip(*prevalence_counter.items()))\n",
    "plt.show()\n"
   ]
  }
 ],
 "metadata": {
  "interpreter": {
   "hash": "e7a50f1ce3c23867b420fba2e360db7852a2011d82904214ded4a540d80fd06b"
  },
  "kernelspec": {
   "display_name": "Python 3.10.1 64-bit",
   "language": "python",
   "name": "python3"
  },
  "language_info": {
   "codemirror_mode": {
    "name": "ipython",
    "version": 3
   },
   "file_extension": ".py",
   "mimetype": "text/x-python",
   "name": "python",
   "nbconvert_exporter": "python",
   "pygments_lexer": "ipython3",
   "version": "3.10.1"
  },
  "orig_nbformat": 4
 },
 "nbformat": 4,
 "nbformat_minor": 2
}
